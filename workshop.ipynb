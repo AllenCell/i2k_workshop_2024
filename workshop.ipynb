{
 "cells": [
  {
   "cell_type": "markdown",
   "metadata": {},
   "source": [
    "# I2K Workshop 2024"
   ]
  },
  {
   "cell_type": "markdown",
   "metadata": {
    "vscode": {
     "languageId": "plaintext"
    }
   },
   "source": [
    "This hands-on workshop will introduce you to CytoDL, a powerful deep learning framework developed by the Allen Institute for Cell Science. CytoDL is designed to streamline the analysis of biological images, including 2D and 3D data represented as images, point clouds, and tabular formats.\n",
    "You will learn how to leverage CytoDL to:\n",
    "\n",
    "A. Get single cell and nucleus instance segmentations from image datasets from the Allen Institute from Cell Science [1, 2]\n",
    "\n",
    "B. Use the single cell images from (A) to extract unsupervised features to detect morphological perturbations of intracellular structures [2].\n",
    "\n",
    "[1] - Viana, Matheus P., et al. \"Integrated intracellular organization and its variations in human iPS cells.\" Nature 613.7943 (2023): 345-354.\n",
    "\n",
    "[2] - Donovan-Maiye, Rory M., et al. \"A deep generative model of 3D single-cell organization.\" PLOS Computational Biology 18.1 (2022): e1009155.\n"
   ]
  },
  {
   "cell_type": "markdown",
   "metadata": {},
   "source": [
    "## What is CytoDL?\n",
    "\n",
    "CytoDL is a python-based package that aims to make deep-learning based microscopy image analysis projects modular, maintainable, and reproducible​ by\n",
    "​\n",
    "1. Identifying common structural components​ of these projects​,\n",
    "2. Providing new components and making incorporation of open-source components easy, and  ​\n",
    "3. Providing recipes for combining custom and open source components​\n",
    "​\n",
    "\n",
    "Using the configurability of [hydra](https://hydra.cc/), CytoDL allows users to easily switch between different models, datasets, and training configurations. CytoDL also provides a set of project templates to quickly train 2D and 3D models for in-silico labeling, semantic and instance segmentation, classification, contrastive learning, and masked image modeling. To better understand the capabilities of CytoDL, let's first examine the configuration file for a single experiment training an instance segmentation model. \n",
    "\n",
    "CytoDL models are most commonly used from the CLI, for the sake of this notebook we will use the API (in beta) to showcase its programmatic use. \n",
    "\n",
    "First, we will load a model from its configuration file."
   ]
  },
  {
   "cell_type": "code",
   "execution_count": null,
   "metadata": {},
   "outputs": [],
   "source": [
    "from cyto_dl.api import CytoDLModel\n",
    "\n",
    "model = CytoDLModel()\n",
    "model.load_config_from_file(WORKING_DIR/'configs/instance_seg_train.yaml')"
   ]
  },
  {
   "cell_type": "markdown",
   "metadata": {},
   "source": [
    "Models can be loaded by their configuration files, from a dictionary, or from one of the provided templates. When loading the configuration, overrides can be provided to change the configuration parameters.\n",
    "\n",
    "### Data Config\n",
    "First, let's examine the data configuration. Here, we specify a training and validation dataloader that takes in numpy arrays and performs a sequence of transforms on them to normalize the raw input data and transform the segmentation images into an appropriate format for model training. Notice that each python object (the dataloader and transforms) that will ultimately be used in training is specified in the config using the hydra `_target_` syntax to specify the function and its arguments to be instantiated. This results in flexibility and reproducibility - configurations uniquely specify the data pipeline used and allows easy interchangeability of transforms (e.g. from CytoDL, monai, pytorch, etc.). The OmegaConf interpolation syntax (`${variable}`) is also used to create consistency within and between configuration files. CytoDL also provides utilities for common microscopy data formats and datamodules for loading datasets specified by file paths or folders instead of raw numpy arrays"
   ]
  },
  {
   "cell_type": "code",
   "execution_count": null,
   "metadata": {},
   "outputs": [],
   "source": [
    "from cyto_dl.utils.rich_utils import print_config_tree\n",
    "print_config_tree(model.cfg.data, print_order=[])"
   ]
  },
  {
   "cell_type": "markdown",
   "metadata": {},
   "source": [
    "### Model Config\n"
   ]
  },
  {
   "cell_type": "markdown",
   "metadata": {},
   "source": [
    "In the model config, we specify how data flows through our project to create a trained model. Here, we use the `MultiTaskIm2Im` class, which creates models with a shared backbone and then (optionally multiple) task-specific heads that take shared backbone features as input. In this case, we have a single task head for instance segmentation, which performs additional convolution on the backbone features to create a 6-channel output (we'll dig into what this looks like in a minute) and is optimized with a custom loss function. \n",
    "Optimization parameters like learning rate schedulers are also provided in the model config."
   ]
  },
  {
   "cell_type": "code",
   "execution_count": null,
   "metadata": {},
   "outputs": [],
   "source": [
    "print_config_tree(model.cfg.model, print_order=[])"
   ]
  },
  {
   "cell_type": "markdown",
   "metadata": {},
   "source": [
    "### Trainer Config\n",
    "We use PyTorch Lightning for training, which allows us to specify the training loop in a modular way. The trainer config specifies the number of epochs, the number of GPUs to use, and other training parameters."
   ]
  },
  {
   "cell_type": "code",
   "execution_count": null,
   "metadata": {},
   "outputs": [],
   "source": [
    "print_config_tree(model.cfg.trainer, print_order=[])"
   ]
  },
  {
   "cell_type": "markdown",
   "metadata": {},
   "source": [
    "### Experiment Config\n",
    "The experiment config composes each of the above configurations (as well as configurations for callbacks, loggers, saving paths, and other parameters) to create a full training pipeline. This is the configuration file that is passed to the `train` function to start training. This modularity (plus the ability to override parameters from the command line or the experiment config) makes it easy to experiment with different models, data, and training parameters.\n",
    "\n",
    "With a basic understanding of CytoDL established, let's dive into our single cell dataset and then train a model!"
   ]
  },
  {
   "cell_type": "markdown",
   "metadata": {},
   "source": [
    "## Single Cell Dataset Creation\n"
   ]
  },
  {
   "cell_type": "markdown",
   "metadata": {},
   "source": [
    "### Training a Cell Instance Segmentation Model\n",
    "We will use the dataset from [1] to train a cell instance segmentation model using CytoDL for application on our drug perturbation dataset. \n"
   ]
  },
  {
   "cell_type": "markdown",
   "metadata": {},
   "source": [
    "1. Downloading the dataset"
   ]
  },
  {
   "cell_type": "code",
   "execution_count": null,
   "metadata": {},
   "outputs": [],
   "source": [
    "from pathlib import Path\n",
    "WORKING_DIR = Path.cwd()"
   ]
  },
  {
   "cell_type": "code",
   "execution_count": null,
   "metadata": {},
   "outputs": [],
   "source": [
    "import quilt3\n",
    "import tqdm\n",
    "\n",
    "def download_dataset(save_path, n_subsample=1):\n",
    "    # set up save directories\n",
    "    raw_path = Path(save_path)\n",
    "    (raw_path/'raw').mkdir(parents=True, exist_ok=True)\n",
    "    (raw_path/'seg').mkdir(parents=True, exist_ok=True)\n",
    "\n",
    "    # connect to quilt\n",
    "    pkg = quilt3.Package.browse(\"aics/hipsc_single_cell_image_dataset\", registry=\"s3://allencell\")\n",
    "    meta_df = pkg[\"metadata.csv\"]().sample(n=n_subsample)\n",
    "    for row in tqdm.tqdm(meta_df.itertuples(), desc=\"Downloading images\"):\n",
    "        # get raw images\n",
    "        subdir_name = row.fov_path.split(\"/\")[0]\n",
    "        file_name = row.fov_path.split(\"/\")[1]\n",
    "        local_fn = raw_path / 'raw' / f\"{row.FOVId}.tiff\"\n",
    "        pkg[subdir_name][file_name].fetch(local_fn)\n",
    "\n",
    "        # get segmentation masks\n",
    "        subdir_name = row.fov_seg_path.split(\"/\")[0]\n",
    "        file_name = row.fov_seg_path.split(\"/\")[1]\n",
    "        local_fn = raw_path / 'seg' / f\"{row.FOVId}.tiff\"\n",
    "        pkg[subdir_name][file_name].fetch(local_fn)\n"
   ]
  },
  {
   "cell_type": "code",
   "execution_count": null,
   "metadata": {},
   "outputs": [],
   "source": [
    "download_dataset(WORKING_DIR/'local_data', n_subsample=10)"
   ]
  },
  {
   "cell_type": "markdown",
   "metadata": {},
   "source": [
    "2. Visualizing Instance Segmentation\n",
    "\n",
    "Inspired by methods like CellPose, Omnipose, and SKOOTS, CytoDL implements a vector-field based approach to instance segmentation. This approach is particularly useful for segmenting cells that are touching or overlapping. This type of model predicts 6 channels:\n",
    "\n",
    "[1] A connectivity-preserving erosion that forms the \"core\" of each object\n",
    "\n",
    "[2] A semantic segmentation generated by thresholding the instance segmentation\n",
    "\n",
    "[3-6] ZYX vector fields that predict the direction to the nearest object boundary from channel 1 in each direction \n",
    "\n",
    "During postprocessing, we use the Ch.2 to identify foreground pixels and then split objects using the vector fields and a connected component labeling of Ch. 1. "
   ]
  },
  {
   "cell_type": "code",
   "execution_count": null,
   "metadata": {},
   "outputs": [],
   "source": [
    "from bioio import BioImage\n",
    "from cyto_dl.models.im2im.utils.instance_seg import InstanceSegPreprocessd\n",
    "import numpy as np\n",
    "import torch\n",
    "\n",
    "def load(fn, C):\n",
    "    return BioImage(fn).get_image_dask_data('ZYX', C=C).compute()\n",
    "\n",
    "def load_cell_seg(fn):\n",
    "    return load(fn, 1)\n",
    "\n",
    "def load_structure(fn):\n",
    "    img = BioImage(fn)\n",
    "    ch_names = img.channel_names\n",
    "    try:\n",
    "        ch = ch_names.index('EGFP_2')\n",
    "    except:\n",
    "        ch = ch_names.index('EGFP')\n",
    "    return load(fn, ch)\n",
    "\n",
    "def load_membrane(fn):\n",
    "    img = BioImage(fn)\n",
    "    ch_names = img.channel_names\n",
    "    try:\n",
    "        ch = ch_names.index('CMDRP_2')\n",
    "    except:\n",
    "        ch = ch_names.index('CMDRP')\n",
    "    return load(fn, ch)\n",
    "\n",
    "def generate_gt(seg):\n",
    "    preprocess = InstanceSegPreprocessd(label_keys='seg')\n",
    "    seg = preprocess({'seg':torch.from_numpy(seg)})\n",
    "    return seg['seg']\n",
    "\n",
    "def select_full_cell(seg):\n",
    "    cells = set(np.unique(seg))\n",
    "    cells.remove(0)\n",
    "    border_mask = np.ones_like(seg).astype(bool)\n",
    "    border_mask[1:-1,1:-1, 1:-1] = False\n",
    "    border_cellids = set(np.unique(seg[border_mask]))\n",
    "    full_cells = list(cells - border_cellids)\n",
    "    return np.random.choice(full_cells, size=1)[0]\n",
    "\n",
    "\n",
    "def visualize_example():\n",
    "    # select random example\n",
    "    files = list((WORKING_DIR / 'local_data/raw').iterdir())\n",
    "    example_fn = np.random.choice(files)\n",
    "    # load images\n",
    "    raw = load_membrane(example_fn)\n",
    "    seg = load_cell_seg(str(example_fn).replace('raw','seg'))\n",
    "    print('Example images loaded')\n",
    "    # visualize a random cell\n",
    "    cell_id = select_full_cell(seg)\n",
    "    # generate ground truth for model training\n",
    "    multich_gt = generate_gt(seg==cell_id)\n",
    "    print(\"Instance segmentation ground truth generated\")\n",
    "\n",
    "    return np.concatenate([raw[None],multich_gt], axis=0)\n",
    "\n",
    "# example = visualize_example()\n"
   ]
  },
  {
   "cell_type": "markdown",
   "metadata": {},
   "source": [
    "3. Model training\n",
    "\n",
    "Now that we have a few examples of the dataset downloaded and we understand the format of the instance segmentation ground truth, we can start model training. To keep things quick, we'll just train for 1 epoch. In practice, you would want to train for many more epochs. Notice how we can provide overrides to the training function to allow programmatic manipulation of the configuration."
   ]
  },
  {
   "cell_type": "code",
   "execution_count": null,
   "metadata": {},
   "outputs": [],
   "source": [
    "# train instance seg model\n",
    "from cyto_dl.api import CytoDLModel\n",
    "from sklearn.model_selection import train_test_split\n",
    "import tqdm\n",
    "\n",
    "def load_dataset():\n",
    "    \"\"\"\n",
    "    Load small dataset for quick training\n",
    "    \"\"\"\n",
    "    raw = []\n",
    "    seg = []\n",
    "    for raw_fn, seg_fn in tqdm.tqdm(zip((WORKING_DIR / 'local_data/raw').iterdir(), (WORKING_DIR / 'local_data/seg').iterdir()), desc='Loading dataset'):\n",
    "        # load and add channel dimension\n",
    "        raw.append(load_membrane(raw_fn)[None])\n",
    "        seg.append(load_cell_seg(seg_fn)[None])\n",
    "\n",
    "        if len(raw) == 3:\n",
    "            break\n",
    "\n",
    "    raw_train, raw_val, seg_train,  seg_val = train_test_split(raw, seg, test_size=1)\n",
    "    train_data = [{'raw': rt, 'seg': st} for rt, st in zip(raw_train, seg_train)]\n",
    "    val_data = [{'raw': rv, 'seg': sv} for rv, sv in zip(raw_val, seg_val)]\n",
    "    return {\n",
    "        'train': train_data,\n",
    "        'val': val_data\n",
    "    }\n",
    "\n",
    "def train_model(cfg_path:str,  dataset, overrides={}):\n",
    "    # load model\n",
    "    model = CytoDLModel()\n",
    "    model.load_config_from_file(cfg_path)\n",
    "\n",
    "    # apply overrides\n",
    "    model.override_config(overrides)\n",
    "\n",
    "    output_path = WORKING_DIR/'local_data'/'instance_seg_train'\n",
    "    model.cfg.paths.output_dir = output_path\n",
    "    Path(output_path).mkdir(parents=True, exist_ok=True)\n",
    "\n",
    "    # apply model\n",
    "    model.train(data=dataset)\n",
    "\n",
    "# train_dataset, val_dataset \n",
    "# data = load_dataset()\n",
    "    \n",
    "train_model(WORKING_DIR/'configs/instance_seg_train.yaml', dataset=data, overrides={'trainer.max_epochs':1})"
   ]
  },
  {
   "cell_type": "markdown",
   "metadata": {},
   "source": [
    "### Dataset Creation"
   ]
  },
  {
   "cell_type": "markdown",
   "metadata": {},
   "source": [
    "Now that we have the trained model (here we'll use a pretrained one instead of the one we just trained for a single epoch), we will use it to create a dataset of single cell images from the drug perturbed and non-perturbed datasets.\n",
    "\n",
    "First, we will generate FOV-level instance segmentations. "
   ]
  },
  {
   "cell_type": "code",
   "execution_count": null,
   "metadata": {},
   "outputs": [],
   "source": [
    "from cyto_dl.utils import extract_array_predictions\n",
    "import matplotlib.pyplot as plt\n",
    "\n",
    "# apply instance seg model\n",
    "def apply_model(cfg_path:str,  dataset, overrides={}):\n",
    "    # load model\n",
    "    model = CytoDLModel()\n",
    "    model.load_config_from_file(cfg_path)\n",
    "\n",
    "    # apply overrides\n",
    "    model.override_config(overrides)\n",
    "\n",
    "    output_path = model.cfg.paths.output_dir\n",
    "    Path(output_path).mkdir(parents=True, exist_ok=True)\n",
    "\n",
    "    # apply model\n",
    "    _, _, output = model.predict(data=data)\n",
    "    preds = extract_array_predictions(output)\n",
    "    return preds\n",
    "\n",
    "# raw_fn = (WORKING_DIR / 'local_data/raw').iterdir().__next__()\n",
    "# data = [load_membrane(raw_fn)[None]]\n",
    "# print('Example images loaded')\n",
    "\n",
    "pred = apply_model(WORKING_DIR/'configs'/'instance_seg_predict.yaml', data, overrides={'paths.output_dir': str(WORKING_DIR/'local_data/instance_seg_apply')})\n",
    "\n",
    "\n",
    "fig, ax= plt.subplots(1,2, figsize=(10,5))\n",
    "ax[0].imshow(data[0][30])\n",
    "ax[2].imshow(pred[0][30])"
   ]
  },
  {
   "cell_type": "markdown",
   "metadata": {},
   "source": [
    "We can then use these segmentations to extract single cell images from the FOVs and normalize them. We exclude cells that are too small (likely noise from our segmentation model) or cells that touch the edge of the FOV, rotate them in the YX plane to align the major axis of the cell with the X axis, and crop them to a fixed size."
   ]
  },
  {
   "cell_type": "code",
   "execution_count": null,
   "metadata": {},
   "outputs": [],
   "source": [
    "import numpy as np\n",
    "from skimage.exposure import rescale_intensity\n",
    "from skimage.measure import regionprops_table\n",
    "import pandas as pd\n",
    "import tqdm\n",
    "from monai.transforms import SpatialCrop\n",
    "from scipy.ndimage import binary_dilation\n",
    "from aicsshparam import shtools\n",
    "\n",
    "\n",
    "def remove_border(img):\n",
    "    # remove instances touching the border\n",
    "    mask = np.ones_like(img, dtype=bool)\n",
    "    mask[1:-1, 1:-1, 1:-1] = False\n",
    "    border_idxs = np.unique(img[mask])\n",
    "    img[np.isin(img, border_idxs)] = 0\n",
    "    return img\n",
    "\n",
    "def normalize(img):\n",
    "    # remove background\n",
    "    img = img-np.median(img)\n",
    "    # clip image values to 50-99.98 percentile\n",
    "    max = np.percentile(img, 99.98)\n",
    "    img[img>max] = max\n",
    "    img[img<0] = 0\n",
    "    # rescale to 0-255\n",
    "    img = rescale_intensity(img, out_range=(0, 255))\n",
    "    return img\n",
    "\n",
    "def extract_single_cells(raw_fn, seg_fn, size_threshold=2e5, crop_size=[56, 256, 384]):\n",
    "    raw = load_structure(raw_fn)\n",
    "    raw = normalize(raw)\n",
    "\n",
    "    seg = load_cell_seg(seg_fn)\n",
    "    seg = remove_border(seg)\n",
    "    \n",
    "    props = pd.DataFrame(regionprops_table(seg, properties=('label', 'slice','area')))\n",
    "    # remove small objects\n",
    "    props = props[props['area'] > size_threshold]\n",
    "\n",
    "    cells = []\n",
    "    for i, row in tqdm.tqdm(props.iterrows()):\n",
    "        crop = raw[row['slice']]\n",
    "\n",
    "        seg_crop = seg[row['slice']] == row['label']\n",
    "        seg_crop = binary_dilation(seg_crop, iterations=1)\n",
    "\n",
    "        # find rotation to make longest axis vertical\n",
    "        seg_crop, angle = shtools.align_image_2d(seg_crop)\n",
    "        crop = shtools.rotate_image_2d(crop[None], angle, interpolation_order = 3)\n",
    "\n",
    "        # center crop on seg_crop centroid\n",
    "        z, y, x = np.where(seg_crop.squeeze())\n",
    "        centroid = np.array([np.mean(z), np.mean(y), np.mean(x)])\n",
    "        cropper= SpatialCrop(centroid, crop_size)\n",
    "\n",
    "        # set background to -1\n",
    "        crop[seg_crop ==0] = -1\n",
    "\n",
    "        # ensure crop is smaller than crop_size\n",
    "        crop = cropper(crop).squeeze()\n",
    "        # pad evenly to crop_size\n",
    "        padding= np.array(crop_size) - np.array(crop.shape)\n",
    "        padding_left = padding//2\n",
    "        padding_right = padding - padding_left\n",
    "        crop = np.pad(crop, ((padding_left[0], padding_right[0]), (padding_left[1], padding_right[1]), (padding_left[2], padding_right[2])), mode='constant', constant_values=-1)\n",
    "    return np.stack(cells)\n",
    "\n",
    "raw_fn = list((WORKING_DIR/'local_data/raw/').glob('*'))[0]\n",
    "seg_fn = list((WORKING_DIR/'local_data/seg/').glob('*'))[0]\n",
    "\n",
    "single_cells = extract_single_cells(raw_fn, seg_fn)"
   ]
  },
  {
   "cell_type": "markdown",
   "metadata": {
    "vscode": {
     "languageId": "plaintext"
    }
   },
   "source": [
    "## Feature Extraction and Applications for Perturbation Detection"
   ]
  },
  {
   "cell_type": "markdown",
   "metadata": {},
   "source": [
    "### VICReg Training\n"
   ]
  },
  {
   "attachments": {
    "image.png": {
     "image/png": "[encoded data removed]"
    }
   },
   "cell_type": "markdown",
   "metadata": {},
   "source": [
    "[VICReg](https://arxiv.org/pdf/2105.04906) is a contrastive learning method that incoroporates three principles for learning meaningful representations:\n",
    "1. Variance - within a batch, features should be diverse. This prevents representational collapse\n",
    "2. Invariance - features should be invariant to transformations of the input\n",
    "3. Covariance - latent features should be independent (i.e. identity covariance)\n",
    "\n",
    "This method combines three loss functions to enforce these principles. \n",
    "\n",
    "![image.png](attachment:image.png)\n",
    "\n",
    "**Image from the VICReg paper**\n",
    "\n",
    "The choice of augmentations to make learned features invariant to is highly domain-dependent and requires some experimentation. Here, we apply random flips, rotations, intensity shifts, Gaussian smoothing, and resizing on two copies of the same cell. We train on  *just* the non-drug treated dataset, and will then apply the trained model on a separate dataset containing drug- and vehicle-treated cells.\n"
   ]
  },
  {
   "cell_type": "code",
   "execution_count": null,
   "metadata": {},
   "outputs": [],
   "source": [
    "# show cytodl training"
   ]
  },
  {
   "cell_type": "markdown",
   "metadata": {},
   "source": [
    "### Feature Analysis\n"
   ]
  },
  {
   "cell_type": "markdown",
   "metadata": {},
   "source": [
    "To get a rough sense of the impact of various drug treatments on our structures of interest, we can start our analysis by visualizing the learned features in a 2D space using PCA. "
   ]
  },
  {
   "cell_type": "code",
   "execution_count": null,
   "metadata": {},
   "outputs": [],
   "source": [
    "import pandas as pd\n",
    "import numpy as np\n",
    "from sklearn.pipeline import Pipeline\n",
    "from sklearn.preprocessing import StandardScaler\n",
    "from sklearn.decomposition import PCA\n",
    "import matplotlib.pyplot as plt\n",
    "\n",
    "def load_features():\n",
    "    return pd.read_csv(WORKING_DIR/'assets/features/predictions.csv')\n",
    "\n",
    "def get_feature_columns():\n",
    "    return [str(i) for i in range(256)]\n",
    "\n",
    "def visualize_treatments(pcs, df):\n",
    "    genes = df.Gene.unique()\n",
    "    drugs = [d for d in df.drug_label.unique() if d != 'Vehicle']\n",
    "    \n",
    "    n_rows, n_cols = len(genes), len(drugs)\n",
    "    fig, axes = plt.subplots(n_rows, n_cols, figsize=(5*n_cols, 5*n_rows), squeeze=False)\n",
    "    \n",
    "    # Set a cohesive style\n",
    "    plt.style.use('seaborn-v0_8')\n",
    "    colors = plt.cm.Set2(np.linspace(0, 1, 8))\n",
    "    \n",
    "    for i, gene in enumerate(genes):\n",
    "        for j, drug in enumerate(drugs):\n",
    "            ax = axes[i, j]\n",
    "            \n",
    "            # Set titles and labels\n",
    "            if i == 0:\n",
    "                ax.set_title(drug, fontsize=14, fontweight='bold')\n",
    "            if j == 0:\n",
    "                ax.set_ylabel(gene, fontsize=14, fontweight='bold')\n",
    "            \n",
    "            drug_idx = (df.Gene == gene) & (df.drug_label == drug)\n",
    "            veh_idx = (df.Gene == gene) & (df.drug_label == 'Vehicle')\n",
    "            \n",
    "            if drug_idx.sum() > 0:\n",
    "                ax.scatter(pcs[veh_idx, 0], pcs[veh_idx, 1], c=[colors[0]], label='Vehicle', alpha=0.7, edgecolors='none')\n",
    "                ax.scatter(pcs[drug_idx, 0], pcs[drug_idx, 1], c=[colors[1]], label=drug, alpha=0.7, edgecolors='none')\n",
    "                ax.set_xlim(-20, 20)\n",
    "                ax.set_ylim(-20, 20)\n",
    "                ax.legend(fontsize=10)\n",
    "                ax.set_xlabel('PC1', fontsize=12)\n",
    "                if j > 0:\n",
    "                    ax.set_ylabel('PC2', fontsize=12)\n",
    "                \n",
    "                # Remove top and right spines\n",
    "                ax.spines['top'].set_visible(False)\n",
    "                ax.spines['right'].set_visible(False)\n",
    "            else:\n",
    "                ax.text(0.5, 0.5, 'No data', ha='center', va='center', transform=ax.transAxes)\n",
    "                ax.axis('off')\n",
    "    \n",
    "    plt.tight_layout()\n",
    "    return fig\n",
    "\n",
    "# Load and process data\n",
    "features = load_features()\n",
    "feat_cols = get_feature_columns()\n",
    "\n",
    "pipeline = Pipeline([\n",
    "    ('scaler', StandardScaler()),\n",
    "    ('pca', PCA(n_components=2))\n",
    "])\n",
    "\n",
    "pcs = pipeline.fit_transform(features[feat_cols])\n",
    "print('Explained variance ratio:', pipeline.named_steps['pca'].explained_variance_ratio_)\n",
    "\n",
    "# Create and display the visualization\n",
    "fig = visualize_treatments(pcs, features)\n",
    "plt.show()"
   ]
  },
  {
   "cell_type": "markdown",
   "metadata": {},
   "source": [
    "While the drug and vehicle distributions are highly overlapping for most cell line / drug combinations, a few interactions stand out as having a clear effect on the distribution of features: Tubulin and Paclitaxol, Golgi and Brefeldin, and Golgi and s-Nitro-Blebbistatin. To better understand the morphological changes that these drugs induce, we can find the axis that best separates the two distributions in PC space and visualize the cells along this axis."
   ]
  },
  {
   "cell_type": "code",
   "execution_count": null,
   "metadata": {},
   "outputs": [],
   "source": [
    "import numpy as np\n",
    "import matplotlib.pyplot as plt\n",
    "import seaborn as sns\n",
    "from sklearn.discriminant_analysis import LinearDiscriminantAnalysis\n",
    "from bioio.bio_image import imread\n",
    "from tqdm import tqdm\n",
    "\n",
    "def visualize_LDA(df, pcs, gene, drug, scale_low=20, scale_high=10):\n",
    "    # Set style\n",
    "    plt.style.use('seaborn-v0_8')\n",
    "    colors = plt.cm.Set2(np.linspace(0, 1, 8))\n",
    "\n",
    "    # Find indices in dataframe for gene and drug/vehicle\n",
    "    veh_idx = (df.Gene == gene) & (df.drug_label == 'Vehicle')\n",
    "    drug_idx = (df.Gene == gene) & (df.drug_label == drug)\n",
    "\n",
    "    # Apply indices to pcs\n",
    "    veh_pcs = pcs[veh_idx]\n",
    "    drug_pcs = pcs[drug_idx]\n",
    "\n",
    "    fig, (ax1, ax2) = plt.subplots(1, 2, figsize=(15, 6))\n",
    "\n",
    "    # PCA Projection plot\n",
    "    ax1.scatter(veh_pcs[:, 0], veh_pcs[:, 1], c=[colors[0]], label='Vehicle', alpha=0.7, edgecolors='none')\n",
    "    ax1.scatter(drug_pcs[:, 0], drug_pcs[:, 1], c=[colors[1]], label=drug, alpha=0.7, edgecolors='none')\n",
    "\n",
    "    # Fit LDA\n",
    "    X = np.concatenate([veh_pcs, drug_pcs])\n",
    "    y = np.concatenate([np.zeros(veh_pcs.shape[0]), np.ones(drug_pcs.shape[0])])\n",
    "\n",
    "    lda = LinearDiscriminantAnalysis(n_components=1)\n",
    "    X_lda = lda.fit_transform(X, y)\n",
    "    lda_direction = lda.coef_[0]\n",
    "    lda_line = np.array([-lda_direction*scale_low, lda_direction*scale_high])\n",
    "\n",
    "    arrow_start = lda_line[0]\n",
    "    arrow_end = lda_line[1]\n",
    "    arrow_vector = arrow_end - arrow_start\n",
    "\n",
    "    ax1.arrow(arrow_start[0], arrow_start[1], \n",
    "          arrow_vector[0], arrow_vector[1],\n",
    "          color='r', width=0.2, head_width=1.0, head_length=1.0, \n",
    "          length_includes_head=True, label='LDA direction')\n",
    "    ax1.set_xlabel('PC1', fontsize=12)\n",
    "    ax1.set_ylabel('PC2', fontsize=12)\n",
    "    ax1.legend(fontsize=10)\n",
    "    ax1.set_title('PCA Projection', fontsize=14, fontweight='bold')\n",
    "    ax1.spines['top'].set_visible(False)\n",
    "    ax1.spines['right'].set_visible(False)\n",
    "    ax1.set_aspect('equal')\n",
    "\n",
    "    # LDA Projection plot\n",
    "    ax2.hist(X_lda[y == 0], bins=50, color=colors[0], density=True, label='Vehicle', alpha=0.5)\n",
    "    ax2.hist(X_lda[y == 1], bins=50, color=colors[1], density=True, label=drug, alpha=0.5)\n",
    "    ax2.set_xlabel('LDA Coordinates', fontsize=12)\n",
    "    ax2.set_ylabel('Density', fontsize=12)\n",
    "    ax2.legend(fontsize=10)\n",
    "    ax2.set_title('LDA Projection', fontsize=14, fontweight='bold')\n",
    "    ax2.spines['top'].set_visible(False)\n",
    "    ax2.spines['right'].set_visible(False)\n",
    "\n",
    "    plt.tight_layout()\n",
    "    plt.show()\n",
    "    return lda_line\n",
    "\n",
    "def visualize_latent_walk(walk, df, feats, drug, gene, path_column='path'):\n",
    "    # Extract drug and gene rows\n",
    "    idx = (df.Gene == gene) & (df.drug_label.isin([drug, 'Vehicle']))\n",
    "    df = df[idx]\n",
    "    feats = feats[idx]\n",
    "    \n",
    "    movie = []\n",
    "    # Find 4 closest examples at each point along walk\n",
    "    for w in tqdm(walk, desc='Traversing PC-LDA line'):\n",
    "        dist = np.linalg.norm(feats - w, axis=1)\n",
    "        dist_argsort = np.argsort(dist)\n",
    "        examples = []\n",
    "        for idx in dist_argsort[:4]:\n",
    "            img = imread(df.iloc[idx][path_column]).squeeze().max(0)\n",
    "            examples.append(img)\n",
    "        examples = np.vstack(examples)\n",
    "        movie.append(examples)\n",
    "    movie = np.hstack(movie)\n",
    "\n",
    "    # Plot movie\n",
    "    plt.figure(figsize=(20, 5))\n",
    "    plt.imshow(movie, cmap='gray')\n",
    "    plt.axis('off')\n",
    "    \n",
    "    # Set xticks with coordinates in w\n",
    "    plt.xticks(np.linspace(0, movie.shape[1], len(walk)), \n",
    "               labels=np.round(walk, 2), \n",
    "               rotation=45, ha='right')\n",
    "    \n",
    "    plt.xlabel('LDA coordinates', fontsize=12)\n",
    "    plt.ylabel(\"Nearest Neighbors\", fontsize=12)\n",
    "    plt.title(f'{gene} x {drug} latent walk', fontsize=14, fontweight='bold')\n",
    "    \n",
    "    # Add colorbar\n",
    "    plt.colorbar(label='Pixel Intensity')\n",
    "    \n",
    "    plt.tight_layout()\n",
    "    plt.show()"
   ]
  },
  {
   "cell_type": "markdown",
   "metadata": {},
   "source": [
    "## Tubulin and Paclitaxol."
   ]
  },
  {
   "cell_type": "code",
   "execution_count": null,
   "metadata": {},
   "outputs": [],
   "source": [
    "drug = 'Paclitaxol'\n",
    "gene = 'TUBA1B'\n",
    "\n",
    "lda_line = visualize_LDA(features,pcs, gene, drug, scale_low=30, scale_high=40)\n",
    "visualize_latent_walk(np.linspace(lda_line[0], lda_line[1], 10), features, pcs, drug, gene)"
   ]
  },
  {
   "cell_type": "markdown",
   "metadata": {},
   "source": [
    "Traversing the LDA line shows a marked decrease in intensity as we move from Paclitaxol-treated cells to Vehicle-treated cells. In addition, the distribution of tubulin seems to change - the Paclitaxol-treated cells have very bright bundles of tubulin, while vehicle-treated cells have more diffuse, uniform tubulin."
   ]
  },
  {
   "cell_type": "markdown",
   "metadata": {},
   "source": [
    "## Golgi and Brefeldin"
   ]
  },
  {
   "cell_type": "code",
   "execution_count": null,
   "metadata": {},
   "outputs": [],
   "source": [
    "drug = 'Brefeldin'\n",
    "gene = 'ST6GAL1'\n",
    "\n",
    "lda_line = visualize_LDA(features, pcs, gene, drug, scale_low=15, scale_high=20)\n",
    "visualize_latent_walk(np.linspace(lda_line[0], lda_line[1], 10), features, pcs, drug, gene)"
   ]
  },
  {
   "cell_type": "markdown",
   "metadata": {},
   "source": [
    "With Brefeldin-treated cells, we again see a significant change in Golgi distribution, with Brefeldin-treated cells having a distinct,diffuse Golgi distribution. Brefeldin is known to cause disassembly of the Golgi apparatus, and this is reflected in the features of our model as the primary difference between the drug- and vehicle-treated cells."
   ]
  },
  {
   "cell_type": "markdown",
   "metadata": {},
   "source": [
    "## Golgi and s-Nitro-Blebbistatin"
   ]
  },
  {
   "cell_type": "code",
   "execution_count": null,
   "metadata": {},
   "outputs": [],
   "source": [
    "drug = 's-Nitro-Blebbistatin'\n",
    "gene = 'ST6GAL1'\n",
    "\n",
    "lda_line = visualize_LDA(features, pcs, gene, drug, scale_low=15, scale_high=20)\n",
    "visualize_latent_walk(np.linspace(lda_line[0], lda_line[1], 10), features, pcs, drug, gene)"
   ]
  },
  {
   "cell_type": "markdown",
   "metadata": {},
   "source": [
    "s-Nitro-Blebbistatin treatment causes a similar dissolution of the Golgi apparatus, from clusters of puncta to a diffuse and blobby morphology. "
   ]
  }
 ],
 "metadata": {
  "kernelspec": {
   "display_name": "workshop",
   "language": "python",
   "name": "python3"
  },
  "language_info": {
   "codemirror_mode": {
    "name": "ipython",
    "version": 3
   },
   "file_extension": ".py",
   "mimetype": "text/x-python",
   "name": "python",
   "nbconvert_exporter": "python",
   "pygments_lexer": "ipython3",
   "version": "3.10.14"
  }
 },
 "nbformat": 4,
 "nbformat_minor": 2
}
